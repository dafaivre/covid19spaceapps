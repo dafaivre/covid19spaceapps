{
 "cells": [
  {
   "cell_type": "code",
   "execution_count": 73,
   "metadata": {},
   "outputs": [],
   "source": [
    "#Import packages\n",
    "import pandas as pd\n",
    "from datetime import datetime as dt\n",
    "\n",
    "#Define files\n",
    "csv_file = \"C:/Users/danie/Documents/My Tableau Repository/Datasources/noaacwNPPN20VIIRSchlociDaily_b764_d3e3_22b3.csv\"\n",
    "new_file1 = \"C:/Users/danie/Documents/My Tableau Repository/Datasources/Chl_Jan2019_May2019.csv\"\n",
    "new_file2 = \"C:/Users/danie/Documents/My Tableau Repository/Datasources/Chl_Jan2020_May2020.csv\""
   ]
  },
  {
   "cell_type": "code",
   "execution_count": 36,
   "metadata": {},
   "outputs": [],
   "source": [
    "#Trim nulls from csv and separate time column\n",
    "def trim_csv(old_csv,new_csv):\n",
    "    open_file = open(old_csv, 'r')\n",
    "    new_file = open(new_csv, 'w+')\n",
    "    idx = 0\n",
    "    \n",
    "    for line in open_file:\n",
    "        if idx == 0:\n",
    "            new_file.write(line)\n",
    "        elif idx == 1:\n",
    "            idx += 1\n",
    "            continue\n",
    "        else:\n",
    "            if line.strip().split(',')[4] == 'NaN':               \n",
    "                continue\n",
    "            else:\n",
    "                new_file.write(line)\n",
    "        idx += 1\n",
    "    \n",
    "    open_file.close()\n",
    "    new_file.close()"
   ]
  },
  {
   "cell_type": "code",
   "execution_count": 39,
   "metadata": {},
   "outputs": [
    {
     "name": "stdout",
     "output_type": "stream",
     "text": [
      "Wall time: 18.3 s\n"
     ]
    }
   ],
   "source": [
    "%%time\n",
    "\n",
    "trim_csv(csv_file,new_file)"
   ]
  },
  {
   "cell_type": "code",
   "execution_count": 83,
   "metadata": {},
   "outputs": [],
   "source": [
    "def combine_df(csv1,csv2):\n",
    "    df1 = pd.read_csv(csv1)\n",
    "    df2 = pd.read_csv(csv2)\n",
    "    \n",
    "    df_joined = pd.concat([df1,df2],axis=0)\n",
    "    \n",
    "    df_joined['date'] = pd.to_datetime(df_joined['time'])\n",
    "    \n",
    "    df_joined['MM-DD'] = df_joined.date.dt.strftime(\"%m-%d\")\n",
    "    \n",
    "    df_joined['2019'] = [1 if x == 2019 else 0 for x in df_joined['date'].dt.year]\n",
    "    \n",
    "    return_df = df_joined.loc[:,['date','MM-DD','2019','latitude','longitude','chl_oci']]\n",
    "    \n",
    "    return(return_df)"
   ]
  },
  {
   "cell_type": "code",
   "execution_count": 84,
   "metadata": {},
   "outputs": [
    {
     "name": "stdout",
     "output_type": "stream",
     "text": [
      "Wall time: 58.5 s\n"
     ]
    }
   ],
   "source": [
    "%%time\n",
    "\n",
    "new_df = combine_df(new_file1,new_file2)"
   ]
  },
  {
   "cell_type": "code",
   "execution_count": 87,
   "metadata": {},
   "outputs": [],
   "source": [
    "new_df.to_csv('C:/Users/danie/Documents/My Tableau Repository/Datasources/Chl_Jan_May20192020.csv', index=False)"
   ]
  }
 ],
 "metadata": {
  "kernelspec": {
   "display_name": "Python 3",
   "language": "python",
   "name": "python3"
  },
  "language_info": {
   "codemirror_mode": {
    "name": "ipython",
    "version": 3
   },
   "file_extension": ".py",
   "mimetype": "text/x-python",
   "name": "python",
   "nbconvert_exporter": "python",
   "pygments_lexer": "ipython3",
   "version": "3.7.6"
  }
 },
 "nbformat": 4,
 "nbformat_minor": 4
}
