{
 "cells": [
  {
   "cell_type": "markdown",
   "metadata": {},
   "source": [
    "# COVID-19 SpaceApps Hackathon"
   ]
  },
  {
   "cell_type": "markdown",
   "metadata": {},
   "source": [
    "## Code used to clean and join data"
   ]
  },
  {
   "cell_type": "code",
   "execution_count": 147,
   "metadata": {},
   "outputs": [],
   "source": [
    "#Import packages\n",
    "import pandas as pd\n",
    "from datetime import datetime as dt\n",
    "import numpy as np\n",
    "\n",
    "#Define files\n",
    "#Data was downloaded from\n",
    "#Chlorophyll OCI: https://coastwatch.noaa.gov/erddap/griddap/noaacwNPPN20VIIRSchlociDaily.html\n",
    "#Bleaching Data: https://pae-paha.pacioos.hawaii.edu/erddap/griddap/dhw_5km.html\n",
    "\n",
    "#2019 Jan-May Chlorophyll Ocean Color Index Data\n",
    "csv_file1 = \"C:/Users/danie/Documents/My Tableau Repository/Datasources/noaacwNPPN20VIIRSchlociDaily_b764_d3e3_22b3.csv\"\n",
    "\n",
    "#2020 Jan-May Chlorophyll Ocean Color Index Data\n",
    "csv_file2 = \"C:/Users/danie/Documents/My Tableau Repository/Datasources/noaacwNPPN20VIIRSchlociDaily_f583_2fdd_13f7.csv\"\n",
    "\n",
    "#2019 Jan-May Chlorophyll Ocean Color Index Data (nulls removed)\n",
    "new_file1 = \"C:/Users/danie/Documents/My Tableau Repository/Datasources/Chl_Jan2019_May2019.csv\"\n",
    "\n",
    "#2020 Jan-May Chlorophyll Ocean Color Index Data (nulls removed)\n",
    "new_file2 = \"C:/Users/danie/Documents/My Tableau Repository/Datasources/Chl_Jan2020_May2020.csv\"\n",
    "\n",
    "#Incorrect datasets that had to be re-downloaded\n",
    "old_bleach_csv1 = \"C:/Users/danie/Documents/My Tableau Repository/Datasources/dhw_5km_5654_68a4_a7c0.csv\"\n",
    "old_bleach_csv2 = \"C:/Users/danie/Documents/My Tableau Repository/Datasources/dhw_5km_aace_9025_6ba5.csv\"\n",
    "old_bleach_new1 = \"C:/Users/danie/Documents/My Tableau Repository/Datasources/Bleach_Jan2019_May2019old.csv\"\n",
    "old_bleach_new2 = \"C:/Users/danie/Documents/My Tableau Repository/Datasources/Bleach_Jan2020_May2020old.csv\"\n",
    "\n",
    "#2019 Jan-May Bleach Data\n",
    "bleach_csv1 = \"C:/Users/danie/Documents/My Tableau Repository/Datasources/dhw_5km_3af1_80d1_1ee7.csv\"\n",
    "\n",
    "#2020 Jan-May Bleach Data\n",
    "bleach_csv2 = \"C:/Users/danie/Documents/My Tableau Repository/Datasources/dhw_5km_cca4_5339_7fd3.csv\"\n",
    "\n",
    "#2019 Jan-May Bleach Data (nulls removed)\n",
    "bleach_new1 = \"C:/Users/danie/Documents/My Tableau Repository/Datasources/Bleach_Jan2019_May2019.csv\"\n",
    "\n",
    "#2020 Jan-May Bleach Data (nulls removed)\n",
    "bleach_new2 = \"C:/Users/danie/Documents/My Tableau Repository/Datasources/Bleach_Jan2020_May2020.csv\""
   ]
  },
  {
   "cell_type": "code",
   "execution_count": 36,
   "metadata": {},
   "outputs": [],
   "source": [
    "#Trim nulls from csv and separate time column\n",
    "def trim_csv(old_csv,new_csv):\n",
    "    open_file = open(old_csv, 'r')\n",
    "    new_file = open(new_csv, 'w+')\n",
    "    idx = 0\n",
    "    \n",
    "    for line in open_file:\n",
    "        if idx == 0:\n",
    "            new_file.write(line)\n",
    "        elif idx == 1:\n",
    "            idx += 1 #extra line with units on it\n",
    "            continue\n",
    "        else:\n",
    "            if line.strip().split(',')[4] == 'NaN':               \n",
    "                continue\n",
    "            else:\n",
    "                new_file.write(line)\n",
    "        idx += 1\n",
    "    \n",
    "    open_file.close()\n",
    "    new_file.close()"
   ]
  },
  {
   "cell_type": "code",
   "execution_count": 125,
   "metadata": {},
   "outputs": [
    {
     "name": "stdout",
     "output_type": "stream",
     "text": [
      "Wall time: 44.8 s\n"
     ]
    }
   ],
   "source": [
    "%%time\n",
    "\n",
    "#trim datasets\n",
    "trim_csv(csv_file1,new_file1)\n",
    "trim_csv(csv_file2,new_file2)\n",
    "trim_csv(bleach_csv1,bleach_new1)\n",
    "trim_csv(bleach_csv2,bleach_new2)"
   ]
  },
  {
   "cell_type": "code",
   "execution_count": 182,
   "metadata": {},
   "outputs": [],
   "source": [
    "#Combine two dataframes\n",
    "def combine_df(csv1,csv2,col_list):\n",
    "    df1 = pd.read_csv(csv1)\n",
    "    df2 = pd.read_csv(csv2)\n",
    "    \n",
    "    df_joined = pd.concat([df1,df2],axis=0)\n",
    "    \n",
    "    df_joined['date'] = pd.to_datetime(df_joined['time'])\n",
    "    \n",
    "    #df_joined['MM-DD'] = df_joined.date.dt.strftime(\"%m-%d\") #unused in final dataset, but useful trick\n",
    "    \n",
    "    #created a 2019 dummy column to allow easy filtering in tableau\n",
    "    df_joined['2019'] = [1 if x == 2019 else 0 for x in df_joined['date'].dt.year]\n",
    "    \n",
    "    #had to remove half the data because Tableau can only hold 15 million rows and I had 29 million rows\n",
    "    df_joined['keep'] = [True if day % 2 == 0 else False for day in df_joined['date'].dt.day]\n",
    "    \n",
    "    half_df = df_joined.loc[df_joined['keep']]\n",
    "    \n",
    "    return_df = half_df.loc[:,col_list]\n",
    "    \n",
    "    return(return_df)"
   ]
  },
  {
   "cell_type": "code",
   "execution_count": 183,
   "metadata": {},
   "outputs": [
    {
     "name": "stdout",
     "output_type": "stream",
     "text": [
      "Wall time: 11.7 s\n"
     ]
    }
   ],
   "source": [
    "%%time\n",
    "\n",
    "#create chlorophyll dataframe of 2019/2020 data\n",
    "new_chldf = combine_df(new_file1,new_file2,['date','2019','latitude','longitude','chl_oci'])"
   ]
  },
  {
   "cell_type": "code",
   "execution_count": 185,
   "metadata": {},
   "outputs": [
    {
     "name": "stdout",
     "output_type": "stream",
     "text": [
      "Wall time: 29.1 s\n"
     ]
    }
   ],
   "source": [
    "%%time\n",
    "\n",
    "#create bleach dataframe of 2019/2020 data\n",
    "new_bleachdf = combine_df(bleach_new1,bleach_new2,['date','2019','latitude','longitude','CRW_HOTSPOT', 'CRW_BAA','CRW_SST','CRW_SSTANOMALY'])"
   ]
  },
  {
   "cell_type": "code",
   "execution_count": 87,
   "metadata": {},
   "outputs": [],
   "source": [
    "#write dataframe to csv for uploading to tableau\n",
    "new_chldf.to_csv('C:/Users/danie/Documents/My Tableau Repository/Datasources/Chl_Jan_May20192020.csv', index=False)"
   ]
  },
  {
   "cell_type": "code",
   "execution_count": 128,
   "metadata": {},
   "outputs": [],
   "source": [
    "#write dataframe to csv for uploading to tableau\n",
    "new_bleachdf.to_csv('C:/Users/danie/Documents/My Tableau Repository/Datasources/Bleach_Jan_May20192020.csv', index=False)"
   ]
  },
  {
   "cell_type": "code",
   "execution_count": 131,
   "metadata": {},
   "outputs": [],
   "source": [
    "#combine chlorophyll oci & bleaching dataframes\n",
    "def combine_datasets(df1,df2):\n",
    "    combined = pd.merge(df1,df2,how='outer',on=['date','2019','latitude','longitude'])\n",
    "    \n",
    "    #combined['sumlatlon'] = combined['latitude'] + combined['longitude'] #another option to filter data\n",
    "    \n",
    "    return(combined)"
   ]
  },
  {
   "cell_type": "code",
   "execution_count": 186,
   "metadata": {},
   "outputs": [
    {
     "name": "stdout",
     "output_type": "stream",
     "text": [
      "Wall time: 10.5 s\n"
     ]
    }
   ],
   "source": [
    "%%time\n",
    "\n",
    "#create joined chlorophyll oci/bleaching dataframe\n",
    "full_data = combine_datasets(new_chldf,new_bleachdf)"
   ]
  },
  {
   "cell_type": "code",
   "execution_count": 188,
   "metadata": {},
   "outputs": [],
   "source": [
    "#write dataframe to csv for uploading to tableau\n",
    "full_data.to_csv('C:/Users/danie/Documents/My Tableau Repository/Datasources/ChlBleach_Jan_May20192020.csv', index=False)"
   ]
  }
 ],
 "metadata": {
  "kernelspec": {
   "display_name": "Python 3",
   "language": "python",
   "name": "python3"
  },
  "language_info": {
   "codemirror_mode": {
    "name": "ipython",
    "version": 3
   },
   "file_extension": ".py",
   "mimetype": "text/x-python",
   "name": "python",
   "nbconvert_exporter": "python",
   "pygments_lexer": "ipython3",
   "version": "3.7.6"
  }
 },
 "nbformat": 4,
 "nbformat_minor": 4
}
